{
 "cells": [
  {
   "cell_type": "markdown",
   "metadata": {},
   "source": [
    "|型態| 創建方式 | 可不可變 | 有序/無序 |\n",
    "|:---:|:---:|:---:|:---:|\n",
    "|list| | | |\n",
    "|dict| | | |\n",
    "|tuple| | | |\n",
    "|set| | | |"
   ]
  },
  {
   "cell_type": "code",
   "execution_count": 1,
   "metadata": {},
   "outputs": [
    {
     "name": "stdout",
     "output_type": "stream",
     "text": [
      "Good Morning\n",
      "2082394012144\n",
      "2082394011184\n"
     ]
    }
   ],
   "source": [
    "message = \"Good Morning\"\n",
    "print(message)\n",
    "print(id(message))\n",
    "message = \"Good Nigjt\"\n",
    "print(id(message))"
   ]
  },
  {
   "cell_type": "code",
   "execution_count": 4,
   "metadata": {},
   "outputs": [
    {
     "name": "stdout",
     "output_type": "stream",
     "text": [
      "Good Morning\n",
      "Good Night\n"
     ]
    }
   ],
   "source": [
    "message = \"Good Morning\"\n",
    "new_message = message.replace(\"Morning\", \"Night\")\n",
    "\n",
    "print(message)\n",
    "print(new_message)"
   ]
  },
  {
   "cell_type": "code",
   "execution_count": null,
   "metadata": {},
   "outputs": [
    {
     "name": "stdout",
     "output_type": "stream",
     "text": [
      "__ccc__\n",
      "Hello\n"
     ]
    }
   ],
   "source": [
    "# 去除二冊空格\n",
    "''''''\n",
    "string.strip()\n",
    "去除字串 string 左、又二邊的空格\n",
    "''''''\n",
    "\n",
    "string01 = \"  __ccc__  \"\n",
    "new_string01 = string01.strip()\n",
    "\n",
    "\n",
    "print(new_string01)\n",
    "\n",
    "message = \"Hello!!!\"\n",
    "new_message = message.strip(\"!\")\n",
    "print(new_message)"
   ]
  }
 ],
 "metadata": {
  "kernelspec": {
   "display_name": "Python 3",
   "language": "python",
   "name": "python3"
  },
  "language_info": {
   "codemirror_mode": {
    "name": "ipython",
    "version": 3
   },
   "file_extension": ".py",
   "mimetype": "text/x-python",
   "name": "python",
   "nbconvert_exporter": "python",
   "pygments_lexer": "ipython3",
   "version": "3.13.0"
  }
 },
 "nbformat": 4,
 "nbformat_minor": 2
}
